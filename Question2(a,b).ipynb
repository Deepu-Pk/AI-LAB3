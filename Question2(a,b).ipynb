{
  "nbformat": 4,
  "nbformat_minor": 0,
  "metadata": {
    "colab": {
      "name": "Untitled8.ipynb",
      "provenance": [],
      "collapsed_sections": [],
      "authorship_tag": "ABX9TyNJ+XYIzD8j+dpG1EAcuaPG",
      "include_colab_link": true
    },
    "kernelspec": {
      "name": "python3",
      "display_name": "Python 3"
    }
  },
  "cells": [
    {
      "cell_type": "markdown",
      "metadata": {
        "id": "view-in-github",
        "colab_type": "text"
      },
      "source": [
        "<a href=\"https://colab.research.google.com/github/Deepu-Pk/AI-LAB3/blob/main/Question2(a%2Cb).ipynb\" target=\"_parent\"><img src=\"https://colab.research.google.com/assets/colab-badge.svg\" alt=\"Open In Colab\"/></a>"
      ]
    },
    {
      "cell_type": "code",
      "metadata": {
        "id": "CajzAn7RDE9p"
      },
      "source": [
        "#Question2\n",
        "#Part a-Calculating training error\n",
        "import pandas as pd \n",
        "import io \n",
        "from google.colab import files \n",
        "\n",
        "#uploaded = files.upload()\n",
        "titanic = pd.read_csv(io.BytesIO(uploaded['titanic-train - titanic-train.csv'])) #titanic is a varaiable used to read CSV dataset:titanic-train.csv\n",
        "feature = len(titanic.axes[0]) #The variable feature is total number of training example \n",
        "#Finding maximum\n",
        "def maximum(val1,val2):\n",
        "  return max(val1,val2)\n",
        "#Fuction for calculting accuracy of feature\n",
        "def accuracy(majority_bin0,majority_bin1):\n",
        "  value = ((majority_bin0 + majority_bin1)/feature)\n",
        "  return value\n",
        "\n",
        "\n"
      ],
      "execution_count": 12,
      "outputs": []
    },
    {
      "cell_type": "code",
      "metadata": {
        "colab": {
          "base_uri": "https://localhost:8080/"
        },
        "id": "Z9FJZfO6FRpe",
        "outputId": "4d1c3c2a-a1e5-42da-b731-894b4812316e"
      },
      "source": [
        "#Calculate accuracy of First_class \n",
        "\n",
        "#Majority of bin0 calculation\n",
        "First_class_bin0 = titanic[(titanic[\"First_class\"] < 0.5)]#Taking bin0(value = 0) of feature First_class \n",
        "First_class_bin0_Survived = len(First_class_bin0[(First_class_bin0['Survived'] > 0.5)])#counting servived\n",
        "First_class_bin0_NotSurvived = len(First_class_bin0[(First_class_bin0['Survived'] < 0.5)])#counting not survived\n",
        "majority_First_class_bin0 = maximum(First_class_bin0_Survived,First_class_bin0_NotSurvived)\n",
        "\n",
        "\n",
        "#Majority of bin1 calculation\n",
        "First_class_bin1 = titanic[(titanic[\"First_class\"] > 0.5)]#Taking bin1(value = 1) of feature First_class \n",
        "First_class_bin1_NotSurvived = len(First_class_bin1[(First_class_bin1['Survived'] < 0.5)])#counting if not survived\n",
        "First_class_bin1_Survived = len(First_class_bin1[(First_class_bin1['Survived'] > 0.5)])#counting if survived\n",
        "majority_First_class_bin1 = maximum(First_class_bin1_Survived,First_class_bin1_NotSurvived)\n",
        "\n",
        "First_class_accuracy = accuracy(majority_First_class_bin0,majority_First_class_bin1)\n",
        "First_class_error = 1 - First_class_accuracy\n",
        "print(\"Feature : First_class Details \")\n",
        "print(\"\\t\\tAccuracy = \",First_class_accuracy)\n",
        "print(\"\\t\\tError    = \",First_class_error)"
      ],
      "execution_count": 13,
      "outputs": [
        {
          "output_type": "stream",
          "text": [
            "Feature : First_class Details \n",
            "\t\tAccuracy =  0.6750700280112045\n",
            "\t\tError    =  0.3249299719887955\n"
          ],
          "name": "stdout"
        }
      ]
    },
    {
      "cell_type": "code",
      "metadata": {
        "colab": {
          "base_uri": "https://localhost:8080/"
        },
        "id": "bv1nXvpbn-U4",
        "outputId": "544267c3-1c62-489d-e919-0da770718cb3"
      },
      "source": [
        "#Calculate accuracy of Sex\n",
        "\n",
        "#Majority of bin0 calculation\n",
        "Sex_bin0 = titanic[(titanic[\"Sex\"] < 0.5)]#Taking bin0(value = 0) of feature Sex \n",
        "Sex_bin0_Survived = len(Sex_bin0[(Sex_bin0['Survived'] > 0.5)])#counting servived\n",
        "Sex_bin0_NotSurvived = len(Sex_bin0[(Sex_bin0['Survived'] < 0.5)])#counting not survived\n",
        "majority_Sex_bin0 = maximum(Sex_bin0_Survived,Sex_bin0_NotSurvived)\n",
        "\n",
        "#Majority of bin1 calculation\n",
        "Sex_bin1 = titanic[(titanic[\"Sex\"] > 0.5)]#Taking bin1(value = 1) of feature First_class \n",
        "Sex_bin1_NotSurvived = len(Sex_bin1[(Sex_bin1['Survived'] < 0.5)])#counting if not survived\n",
        "Sex_bin1_Survived = len(Sex_bin1[(Sex_bin1['Survived'] > 0.5)])#counting if survived\n",
        "majority_Sex_bin1 = maximum(Sex_bin1_Survived,Sex_bin1_NotSurvived)\n",
        "\n",
        "\n",
        "Sex_accuracy = accuracy(majority_Sex_bin0,majority_Sex_bin1)\n",
        "Sex_error = 1 - Sex_accuracy\n",
        "print(\"Feature : Sex Details \")\n",
        "print(\"\\t\\tAccuracy = \",Sex_accuracy)\n",
        "print(\"\\t\\tError    = \",Sex_error)\n"
      ],
      "execution_count": 14,
      "outputs": [
        {
          "output_type": "stream",
          "text": [
            "Feature : Sex Details \n",
            "\t\tAccuracy =  0.7801120448179272\n",
            "\t\tError    =  0.21988795518207283\n"
          ],
          "name": "stdout"
        }
      ]
    },
    {
      "cell_type": "code",
      "metadata": {
        "colab": {
          "base_uri": "https://localhost:8080/"
        },
        "id": "lUL_fOlvpN8L",
        "outputId": "286fed4f-4f96-4ad7-ab9c-1c860ffab60e"
      },
      "source": [
        "#Calculate accuracy of Age\n",
        "\n",
        "#Majority of bin0 calculation\n",
        "Age_bin0 = titanic[(titanic[\"Age\"] < 0.5)]#Taking bin0(value = 0) of feature Sex \n",
        "Age_bin0_Survived = len(Age_bin0[(Age_bin0['Survived'] > 0.5)])#counting servived\n",
        "Age_bin0_NotSurvived = len(Age_bin0[(Age_bin0['Survived'] < 0.5)])#counting not survived\n",
        "majority_Age_bin0 = maximum(Age_bin0_Survived,Age_bin0_NotSurvived)\n",
        "\n",
        "#Majority of bin1 calculation\n",
        "Age_bin1 = titanic[(titanic[\"Age\"] > 0.5)]#Taking bin1(value = 1) of feature First_class \n",
        "Age_bin1_NotSurvived = len(Age_bin1[(Age_bin1['Survived'] < 0.5)])#counting if not survived\n",
        "Age_bin1_Survived = len(Age_bin1[(Age_bin1['Survived'] > 0.5)])#counting if survived\n",
        "majority_Age_bin1 = maximum(Age_bin1_Survived,Age_bin1_NotSurvived)\n",
        "\n",
        "Age_accuracy = accuracy(majority_Age_bin0,majority_Age_bin1)\n",
        "Age_error = 1 - Age_accuracy\n",
        "print(\"Feature : Age Details \")\n",
        "print(\"\\t\\tAccuracy = \",Age_accuracy)\n",
        "print(\"\\t\\tError    = \",Age_error)"
      ],
      "execution_count": 15,
      "outputs": [
        {
          "output_type": "stream",
          "text": [
            "Feature : Age Details \n",
            "\t\tAccuracy =  0.5938375350140056\n",
            "\t\tError    =  0.4061624649859944\n"
          ],
          "name": "stdout"
        }
      ]
    },
    {
      "cell_type": "code",
      "metadata": {
        "colab": {
          "base_uri": "https://localhost:8080/"
        },
        "id": "e9xjrRqtsmUU",
        "outputId": "295bbfcd-4454-413b-c6c4-75eef371b8f1"
      },
      "source": [
        "#Calculate accuracy of SibSp\n",
        "\n",
        "#Majority of bin0 calculation\n",
        "SibSp_bin0 = titanic[(titanic[\"SibSp\"] < 0.5)]#Taking bin0(value = 0) of feature Sex \n",
        "SibSp_bin0_Survived = len(SibSp_bin0[(SibSp_bin0['Survived'] > 0.5)])#counting servived\n",
        "SibSp_bin0_NotSurvived = len(SibSp_bin0[(SibSp_bin0['Survived'] < 0.5)])#counting not survived\n",
        "majority_SibSp_bin0 = maximum(SibSp_bin0_Survived,SibSp_bin0_NotSurvived)\n",
        "\n",
        "#Majority of bin1 calculation\n",
        "SibSp_bin1 = titanic[(titanic[\"SibSp\"] > 0.5)]#Taking bin1(value = 1) of feature First_class \n",
        "SibSp_bin1_NotSurvived = len(SibSp_bin1[(SibSp_bin1['Survived'] < 0.5)])#counting if not survived\n",
        "SibSp_bin1_Survived = len(SibSp_bin1[(SibSp_bin1['Survived'] > 0.5)])#counting if survived\n",
        "majority_SibSp_bin1 = maximum(SibSp_bin1_Survived,SibSp_bin1_NotSurvived)\n",
        "\n",
        "SibSp_accuracy = accuracy(majority_SibSp_bin0,majority_SibSp_bin1)\n",
        "SibSp_error = 1 - SibSp_accuracy\n",
        "print(\"Feature : SibSp Details \")\n",
        "print(\"\\t\\tAccuracy = \",SibSp_accuracy)\n",
        "print(\"\\t\\tError    = \",SibSp_error)"
      ],
      "execution_count": 16,
      "outputs": [
        {
          "output_type": "stream",
          "text": [
            "Feature : SibSp Details \n",
            "\t\tAccuracy =  0.5938375350140056\n",
            "\t\tError    =  0.4061624649859944\n"
          ],
          "name": "stdout"
        }
      ]
    },
    {
      "cell_type": "code",
      "metadata": {
        "colab": {
          "base_uri": "https://localhost:8080/"
        },
        "id": "AOjkuRU1tV3H",
        "outputId": "a3cdd6bb-475f-4b43-b52a-9d0a173a3307"
      },
      "source": [
        "#Calculate accuracy of ParCh\n",
        "\n",
        "#Majority of bin0 calculation\n",
        "ParCh_bin0 = titanic[(titanic[\"ParCh\"] < 0.5)]#Taking bin0(value = 0) of feature Sex \n",
        "ParCh_bin0_Survived = len(ParCh_bin0[(ParCh_bin0['Survived'] > 0.5)])#counting servived\n",
        "ParCh_bin0_NotSurvived = len(ParCh_bin0[(ParCh_bin0['Survived'] < 0.5)])#counting not survived\n",
        "majority_ParCh_bin0 = maximum(ParCh_bin0_Survived,ParCh_bin0_NotSurvived)\n",
        "\n",
        "#Majority of bin1 calculation\n",
        "ParCh_bin1 = titanic[(titanic[\"ParCh\"] > 0.5)]#Taking bin1(value = 1) of feature First_class \n",
        "ParCh_bin1_NotSurvived = len(ParCh_bin1[(ParCh_bin1['Survived'] < 0.5)])#counting if not survived\n",
        "ParCh_bin1_Survived = len(ParCh_bin1[(ParCh_bin1['Survived'] > 0.5)])#counting if survived\n",
        "majority_ParCh_bin1 = maximum(ParCh_bin1_Survived,ParCh_bin1_NotSurvived)\n",
        "\n",
        "ParCh_accuracy = accuracy(majority_ParCh_bin0,majority_ParCh_bin1)\n",
        "ParCh_error = 1 - ParCh_accuracy\n",
        "print(\"Feature : ParCh Details \")\n",
        "print(\"\\t\\tAccuracy = \",ParCh_accuracy)\n",
        "print(\"\\t\\tError    = \",ParCh_error)"
      ],
      "execution_count": 17,
      "outputs": [
        {
          "output_type": "stream",
          "text": [
            "Feature : ParCh Details \n",
            "\t\tAccuracy =  0.6148459383753502\n",
            "\t\tError    =  0.3851540616246498\n"
          ],
          "name": "stdout"
        }
      ]
    },
    {
      "cell_type": "code",
      "metadata": {
        "colab": {
          "base_uri": "https://localhost:8080/"
        },
        "id": "UbaAZeK9uUpR",
        "outputId": "31c90b9b-6f9b-4afa-8130-80589d3e31da"
      },
      "source": [
        "#Calculate accuracy of Embarked\n",
        "\n",
        "#Majority of bin0 calculation\n",
        "Embarked_bin0 = titanic[(titanic[\"Embarked\"] < 0.5)]#Taking bin0(value = 0) of feature Embarked\n",
        "Embarked_bin0_Survived = len(Embarked_bin0[(Embarked_bin0['Survived'] > 0.5)])#counting servived\n",
        "Embarked_bin0_NotSurvived = len(Embarked_bin0[(Embarked_bin0['Survived'] < 0.5)])#counting not survived\n",
        "majority_Embarked_bin0 = maximum(Embarked_bin0_Survived,Embarked_bin0_NotSurvived)\n",
        "\n",
        "#Majority of bin1 calculation\n",
        "Embarked_bin1 = titanic[(titanic[\"Embarked\"] > 0.5)]#Taking bin1(value = 1) of feature First_class \n",
        "Embarked_bin1_NotSurvived = len(Embarked_bin1[(Embarked_bin1['Survived'] < 0.5)])#counting if not survived\n",
        "Embarked_bin1_Survived = len(Embarked_bin1[(Embarked_bin1['Survived'] > 0.5)])#counting if survived\n",
        "majority_Embarked_bin1 = maximum(Embarked_bin1_Survived,Embarked_bin1_NotSurvived)\n",
        "\n",
        "Embarked_accuracy = accuracy(majority_Embarked_bin0,majority_Embarked_bin1)\n",
        "Embarked_error = 1 - Embarked_accuracy\n",
        "print(\"Feature : Embarked Details \")\n",
        "print(\"\\t\\tAccuracy = \",Embarked_accuracy)\n",
        "print(\"\\t\\tError    = \",Embarked_error)"
      ],
      "execution_count": 18,
      "outputs": [
        {
          "output_type": "stream",
          "text": [
            "Feature : Embarked Details \n",
            "\t\tAccuracy =  0.6162464985994398\n",
            "\t\tError    =  0.3837535014005602\n"
          ],
          "name": "stdout"
        }
      ]
    },
    {
      "cell_type": "code",
      "metadata": {
        "colab": {
          "base_uri": "https://localhost:8080/"
        },
        "id": "EXgo1bJCvLFx",
        "outputId": "efe8f323-2f0e-45f5-b9c4-0edc67397696"
      },
      "source": [
        "#Part b-Finding feature would be the best to use\n",
        "\n",
        "max_accuray = max(First_class_accuracy,Sex_accuracy,Age_accuracy,SibSp_accuracy,ParCh_accuracy,Embarked_accuracy)\n",
        "print(\"Maximum Accuracy = \",max_accuray)\n",
        "print(\"Feature would be the best to use is Sex\")"
      ],
      "execution_count": 19,
      "outputs": [
        {
          "output_type": "stream",
          "text": [
            "Maximum Accuracy =  0.7801120448179272\n",
            "Feature would be the best to use is Sex\n"
          ],
          "name": "stdout"
        }
      ]
    }
  ]
}